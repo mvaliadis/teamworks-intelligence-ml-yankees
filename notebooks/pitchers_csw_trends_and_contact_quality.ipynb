{
 "cells": [
  {
   "cell_type": "markdown",
   "id": "b6fc86ec",
   "metadata": {},
   "source": [
    "# Pitchers — CSW% Trends & Contact Quality\n",
    "\n",
    "This notebook shows two pitcher-facing analyses using **season-level** features from this repo:\n",
    "\n",
    "1. **CSW% trends across seasons** for top-BF pitchers (who faced the most batters).  \n",
    "2. **Contact quality** scatter: **GB% vs EV allowed**, sized by BF, color-coded by season, with an option to label top pitchers.\n",
    "\n",
    "It looks for `data/processed/pitchers_features.csv` first, and will fall back to `sample_data/pitchers_features_sample.csv` if needed.\n"
   ]
  },
  {
   "cell_type": "code",
   "execution_count": null,
   "id": "861b7e30",
   "metadata": {},
   "outputs": [],
   "source": [
    "# Setup\n",
    "from pathlib import Path\n",
    "import numpy as np\n",
    "import pandas as pd\n",
    "import matplotlib.pyplot as plt\n",
    "\n",
    "PROC_DIR = Path('data/processed')\n",
    "SAMPLE_DIR = Path('sample_data')\n",
    "\n",
    "plt.rcParams['figure.figsize'] = (10, 5)"
   ]
  },
  {
   "cell_type": "markdown",
   "id": "c3346843",
   "metadata": {},
   "source": [
    "## Load season-level pitcher features"
   ]
  },
  {
   "cell_type": "code",
   "execution_count": null,
   "id": "3ef8f15d",
   "metadata": {},
   "outputs": [],
   "source": [
    "pf_path = PROC_DIR / 'pitchers_features.csv'\n",
    "if not pf_path.exists():\n",
    "    alt = SAMPLE_DIR / 'pitchers_features_sample.csv'\n",
    "    pf_path = alt if alt.exists() else None\n",
    "\n",
    "if pf_path and pf_path.exists():\n",
    "    pit = pd.read_csv(pf_path)\n",
    "else:\n",
    "    pit = pd.DataFrame()\n",
    "\n",
    "# Clean types\n",
    "if 'season' in pit.columns:\n",
    "    pit['season'] = pd.to_numeric(pit['season'], errors='coerce').astype('Int64')\n",
    "for c in ['bf','csw_rate','k_rate','bb_rate','gb_rate','ev_allowed']:\n",
    "    if c in pit.columns:\n",
    "        pit[c] = pd.to_numeric(pit[c], errors='coerce')\n",
    "\n",
    "print('Pitchers features:', pit.shape)\n",
    "display(pit.head(3))"
   ]
  },
  {
   "cell_type": "markdown",
   "id": "c368403d",
   "metadata": {},
   "source": [
    "## CSW% trends across seasons\n",
    "\n",
    "We draw a line for each of the **top N pitchers by BF** (batters faced), showing their CSW% across available seasons.\n"
   ]
  },
  {
   "cell_type": "code",
   "execution_count": null,
   "id": "b54ebfaa",
   "metadata": {},
   "outputs": [],
   "source": [
    "if pit.empty or 'csw_rate' not in pit.columns:\n",
    "    raise SystemExit('No pitcher features found. Run the pipeline to create data/processed/pitchers_features.csv.')\n",
    "\n",
    "# Choose top N by BF (aggregate across seasons)\n",
    "agg = (pit.groupby(['player_id','player_name'])['bf']\n",
    "          .sum()\n",
    "          .sort_values(ascending=False)\n",
    "          .reset_index())\n",
    "TOP_N = 12\n",
    "top_ids = set(agg.head(TOP_N)['player_id'])\n",
    "\n",
    "sub = pit[pit['player_id'].isin(top_ids)].copy()\n",
    "sub = sub.dropna(subset=['season','csw_rate'])\n",
    "sub['season'] = sub['season'].astype(int)\n",
    "\n",
    "players = sub[['player_id','player_name']].drop_duplicates()\n",
    "\n",
    "# Plot lines\n",
    "plt.figure(figsize=(11, 6))\n",
    "for pid, pname in players.itertuples(index=False):\n",
    "    s = sub[sub['player_id']==pid].sort_values('season')\n",
    "    plt.plot(s['season'], s['csw_rate'], marker='o', label=str(pname))\n",
    "plt.title('CSW% Trend — Top Pitchers by BF')\n",
    "plt.xlabel('Season')\n",
    "plt.ylabel('CSW%')\n",
    "plt.xticks(sorted(sub['season'].unique()))\n",
    "plt.grid(True, axis='y', alpha=0.3)\n",
    "plt.legend(ncol=2, fontsize=8, frameon=False)\n",
    "plt.tight_layout()\n",
    "plt.show()"
   ]
  },
  {
   "cell_type": "markdown",
   "id": "8a9b5536",
   "metadata": {},
   "source": [
    "## Contact quality: GB% vs EV allowed\n",
    "\n",
    "Lower EV allowed and higher GB% are generally positive indicators for contact management.  \n",
    "We size points by BF (more innings/workload) and color by season.\n"
   ]
  },
  {
   "cell_type": "code",
   "execution_count": null,
   "id": "e42f1350",
   "metadata": {},
   "outputs": [],
   "source": [
    "# Prepare scatter data\n",
    "scat = pit.dropna(subset=['gb_rate','ev_allowed','bf','season']).copy()\n",
    "scat['season'] = scat['season'].astype(int)\n",
    "\n",
    "# Basic scatter per season (one figure per season for clarity)\n",
    "for yr in sorted(scat['season'].unique()):\n",
    "    d = scat[scat['season']==yr]\n",
    "    plt.figure(figsize=(8, 6))\n",
    "    sizes = (d['bf'] - d['bf'].min()) / max(1e-9, (d['bf'].max() - d['bf'].min())) * 200 + 20\n",
    "    plt.scatter(d['gb_rate'], d['ev_allowed'], s=sizes, alpha=0.6)\n",
    "    plt.title(f'Contact Quality — GB% vs EV allowed (Season {yr})')\n",
    "    plt.xlabel('GB%')\n",
    "    plt.ylabel('EV allowed (mph)')\n",
    "    plt.grid(True, alpha=0.3)\n",
    "    plt.tight_layout()\n",
    "    plt.show()"
   ]
  },
  {
   "cell_type": "markdown",
   "id": "74808b48",
   "metadata": {},
   "source": [
    "## Optional: label the top pitchers (by BF) within a season\n",
    "\n",
    "Labels can clutter; we annotate only the top-K by BF per season for quick identification.\n"
   ]
  },
  {
   "cell_type": "code",
   "execution_count": null,
   "id": "46364027",
   "metadata": {},
   "outputs": [],
   "source": [
    "TOP_K_LABEL = 10\n",
    "for yr in sorted(scat['season'].unique()):\n",
    "    d = scat[scat['season']==yr].copy()\n",
    "    d = d.sort_values('bf', ascending=False)\n",
    "    topk = d.head(TOP_K_LABEL)\n",
    "\n",
    "    plt.figure(figsize=(8, 6))\n",
    "    sizes = (d['bf'] - d['bf'].min()) / max(1e-9, (d['bf'].max() - d['bf'].min())) * 200 + 20\n",
    "    plt.scatter(d['gb_rate'], d['ev_allowed'], s=sizes, alpha=0.4)\n",
    "    # annotate top-k\n",
    "    for _, row in topk.iterrows():\n",
    "        plt.text(row['gb_rate'], row['ev_allowed'], str(row.get('player_name','')), fontsize=8, ha='left', va='bottom')\n",
    "    plt.title(f'Contact Quality — GB% vs EV allowed with Labels (Season {yr})')\n",
    "    plt.xlabel('GB%')\n",
    "    plt.ylabel('EV allowed (mph)')\n",
    "    plt.grid(True, alpha=0.3)\n",
    "    plt.tight_layout()\n",
    "    plt.show()"
   ]
  },
  {
   "cell_type": "markdown",
   "id": "a13005af",
   "metadata": {},
   "source": [
    "> **Notes**\n",
    "\"\n",
    "\"- If you want team-specific plots (e.g., only Yankees), filter `pit` to a team column once you add it in your feature builder.\n",
    "\"\n",
    "\"- To analyze **per-pitch** CSW% trends (rolling), compute from raw Statcast with a pitch-level groupby and a rolling window.\"\n"
   ]
  }
 ],
 "metadata": {},
 "nbformat": 4,
 "nbformat_minor": 5
}
