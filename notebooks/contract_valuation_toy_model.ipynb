{
 "cells": [
  {
   "cell_type": "markdown",
   "id": "9120ab52",
   "metadata": {},
   "source": [
    "# Toy Contract Valuation — Aging Curve (Proxy) → wOBA Projection → WAR → $\n",
    "\n",
    "**Portfolio demo** of a transparent valuation path for hitters using only season-level features.\n",
    "\n",
    "Steps:\n",
    "1. Build a **proxy aging curve** using within-player season-to-season changes (experience index as a surrogate for age).\n",
    "2. Project **wOBA** using a blend of xwOBA & wOBA with PA-based shrinkage toward league mean + aging adjustment.\n",
    "3. Convert to **wRAA** (with fixed wOBA scale), then **WAR** (runs per win), then **$** (constant $/WAR).\n",
    "4. Show **risk bands** via empirical residuals (percentiles).\n",
    "\n",
    "> In production, you would use true ages, park factors, positional adjustments, defense/base-running, and season-specific run environments.\n"
   ]
  },
  {
   "cell_type": "code",
   "execution_count": null,
   "id": "93fef2f0",
   "metadata": {},
   "outputs": [],
   "source": [
    "# Setup\n",
    "import numpy as np\n",
    "import pandas as pd\n",
    "from pathlib import Path\n",
    "\n",
    "PROC_DIR = Path(\"data/processed\")\n",
    "SAMPLE_DIR = Path(\"sample_data\")\n",
    "\n",
    "# Load hitters features (season-level)\n",
    "hit_path = PROC_DIR / \"hitters_features.csv\"\n",
    "if not hit_path.exists():\n",
    "    alt_path = SAMPLE_DIR / \"hitters_features_sample.csv\"\n",
    "    hit_path = alt_path if alt_path.exists() else None\n",
    "\n",
    "if hit_path and hit_path.exists():\n",
    "    hit = pd.read_csv(hit_path)\n",
    "else:\n",
    "    hit = pd.DataFrame()\n",
    "\n",
    "# Clean types\n",
    "if \"season\" in hit.columns:\n",
    "    hit[\"season\"] = pd.to_numeric(hit[\"season\"], errors=\"coerce\").astype(\"Int64\")\n",
    "for c in [\"pa\",\"woba\",\"xwoba\",\"avg_ev\",\"k_rate\",\"bb_rate\",\"barrel_rate\"]:\n",
    "    if c in hit.columns:\n",
    "        hit[c] = pd.to_numeric(hit[c], errors=\"coerce\")\n",
    "\n",
    "print(\"Hitters features:\", hit.shape)\n",
    "display(hit.head(3))"
   ]
  },
  {
   "cell_type": "markdown",
   "id": "4bf92ba2",
   "metadata": {},
   "source": [
    "## Build a proxy aging curve\n",
    "\n",
    "We construct an **experience index** per player: 0 for their first observed season in the dataset, 1 for next, etc.  \n",
    "Then compute `ΔwOBA = wOBA(t+1) - wOBA(t)` and average by experience to get an empirical adjustment curve."
   ]
  },
  {
   "cell_type": "code",
   "execution_count": null,
   "id": "59dde92f",
   "metadata": {},
   "outputs": [],
   "source": [
    "# Ensure we have minimal columns\n",
    "req = {\"player_id\",\"player_name\",\"season\",\"woba\",\"xwoba\",\"pa\"}\n",
    "missing = req - set(hit.columns)\n",
    "if missing:\n",
    "    raise SystemExit(f\"Missing required columns for this demo: {missing}. Build features first.\")\n",
    "\n",
    "# Experience index\n",
    "hit = hit.dropna(subset=[\"player_id\",\"season\",\"woba\"]).copy()\n",
    "hit[\"season\"] = hit[\"season\"].astype(int)\n",
    "hit = hit.sort_values([\"player_id\",\"season\"])\n",
    "\n",
    "hit[\"exp_idx\"] = hit.groupby(\"player_id\")[\"season\"].rank(method=\"first\").astype(int) - 1\n",
    "\n",
    "# Season-to-season deltas\n",
    "next_map = (hit[[\"player_id\",\"season\",\"woba\"]]\n",
    "            .rename(columns={\"season\":\"season_t\",\"woba\":\"woba_t\"})\n",
    "            .merge(hit[[\"player_id\",\"season\",\"woba\",\"exp_idx\"]]\n",
    "                   .rename(columns={\"season\":\"season_t1\",\"woba\":\"woba_t1\",\"exp_idx\":\"exp_idx_t1\"}),\n",
    "                   on=\"player_id\", how=\"inner\"))\n",
    "# keep true consecutive seasons\n",
    "next_map = next_map[next_map[\"season_t1\"] == next_map[\"season_t\"] + 1].copy()\n",
    "next_map[\"delta\"] = next_map[\"woba_t1\"] - next_map[\"woba_t\"]\n",
    "\n",
    "aging_curve = (next_map.groupby(\"exp_idx_t1\")[\"delta\"]\n",
    "               .mean()\n",
    "               .rename(\"avg_delta\")\n",
    "               .reset_index())\n",
    "aging_curve"
   ]
  },
  {
   "cell_type": "markdown",
   "id": "6b336a4e",
   "metadata": {},
   "source": [
    "## Project wOBA with shrinkage + aging adjustment\n",
    "\n",
    "`wOBA_proj = shrink * (α * xwOBA + (1-α) * wOBA) + (1-shrink) * league_wOBA + aging_adj`\n",
    "\n",
    "- `shrink = PA / (PA + K)` (K ≈ 200 by default)  \n",
    "- `α` = 0.6 by default  \n",
    "- `aging_adj` = cumulative sum of `avg_delta` up to the player's **next** experience index (proxy for aging effects)"
   ]
  },
  {
   "cell_type": "code",
   "execution_count": null,
   "id": "bd12034e",
   "metadata": {},
   "outputs": [],
   "source": [
    "WOBASCALE = 1.25      # demo constant\n",
    "RUNS_PER_WIN = 10.0  # demo constant\n",
    "DOLLARS_PER_WAR = 9_000_000  # demo constant\n",
    "K_SHRINK = 200.0\n",
    "ALPHA = 0.6  # weight on xwOBA vs wOBA\n",
    "\n",
    "league_woba = float(hit[\"woba\"].mean()) if not hit.empty else 0.320\n",
    "\n",
    "# Cumulative aging adjustment by experience index\n",
    "aging_curve = aging_curve.set_index(\"exp_idx_t1\") if \"aging_curve\" in locals() else pd.DataFrame()\n",
    "aging_cum = aging_curve[\"avg_delta\"].cumsum() if not aging_curve.empty else pd.Series(dtype=float)\n",
    "\n",
    "def aging_adjust(exp_next:int) -> float:\n",
    "    if aging_cum.empty:\n",
    "        return 0.0\n",
    "    # clamp to index range\n",
    "    keys = aging_cum.index.to_list()\n",
    "    if not keys:\n",
    "        return 0.0\n",
    "    exp_next = max(min(exp_next, max(keys)), min(keys))\n",
    "    return float(aging_cum.loc[exp_next])\n",
    "\n",
    "def project_row(row):\n",
    "    pa = float(row.get(\"pa\", 0.0))\n",
    "    shrink = pa / (pa + K_SHRINK)\n",
    "    blend = ALPHA * float(row.get(\"xwoba\", np.nan)) + (1-ALPHA) * float(row.get(\"woba\", np.nan))\n",
    "    # next experience index (proxy for next season)\n",
    "    exp_next = int(row.get(\"exp_idx\", 0)) + 1\n",
    "    adj = aging_adjust(exp_next)\n",
    "    return shrink * blend + (1.0 - shrink) * league_woba + adj\n",
    "\n",
    "hit[\"woba_proj\"] = hit.apply(project_row, axis=1)\n",
    "\n",
    "# Residuals to build empirical risk bands (by exp_idx buckets)\n",
    "hit[\"resid\"] = hit[\"woba_proj\"] - hit[\"woba\"]\n",
    "risk = (hit.groupby(\"exp_idx\")[\"resid\"]\n",
    "        .quantile([0.1, 0.5, 0.9])\n",
    "        .unstack()\n",
    "        .rename(columns={0.1:\"p10\",0.5:\"p50\",0.9:\"p90\"})\n",
    "        .reset_index())\n",
    "risk"
   ]
  },
  {
   "cell_type": "markdown",
   "id": "96f0c552",
   "metadata": {},
   "source": [
    "## Convert to wRAA → WAR → $ with bands"
   ]
  },
  {
   "cell_type": "code",
   "execution_count": null,
   "id": "ff818291",
   "metadata": {},
   "outputs": [],
   "source": [
    "# Convert to wRAA and WAR\n",
    "hit[\"wraa\"] = ((hit[\"woba_proj\"] - league_woba) / WOBASCALE) * hit[\"pa\"]\n",
    "hit[\"war\"]  = hit[\"wraa\"] / RUNS_PER_WIN\n",
    "hit[\"$\"]    = hit[\"war\"] * DOLLARS_PER_WAR\n",
    "\n",
    "# Attach rough risk bands using residual percentiles per exp_idx\n",
    "hit = hit.merge(risk, on=\"exp_idx\", how=\"left\")\n",
    "hit[\"war_p10\"] = hit[\"war\"] + (hit[\"p10\"] / WOBASCALE) * (hit[\"pa\"] / RUNS_PER_WIN)\n",
    "hit[\"war_p90\"] = hit[\"war\"] + (hit[\"p90\"] / WOBASCALE) * (hit[\"pa\"] / RUNS_PER_WIN)\n",
    "hit[\"$_p10\"]   = hit[\"war_p10\"] * DOLLARS_PER_WAR\n",
    "hit[\"$_p90\"]   = hit[\"war_p90\"] * DOLLARS_PER_WAR\n",
    "\n",
    "latest = int(hit[\"season\"].dropna().max())\n",
    "cols = [\"player_name\",\"season\",\"pa\",\"woba\",\"xwoba\",\"woba_proj\",\"war\",\"$\",\"war_p10\",\"war_p90\",\"$_p10\",\"$_p90\"]\n",
    "top = (hit[hit[\"season\"]==latest]\n",
    "       .sort_values(\"war\", ascending=False)\n",
    "       .reset_index(drop=True))[cols]\n",
    "top.head(20)"
   ]
  },
  {
   "cell_type": "markdown",
   "id": "22af4e86",
   "metadata": {},
   "source": [
    "> **Disclaimers:** This is a toy demo. For production: use true ages, park/league adjustments, positions, playing time projections, defense/baserunning, team run-to-win curves, and market-specific $/WAR."
   ]
  }
 ],
 "metadata": {
  "kernelspec": {
   "display_name": "base",
   "language": "python",
   "name": "python3"
  },
  "language_info": {
   "codemirror_mode": {
    "name": "ipython",
    "version": 3
   },
   "file_extension": ".py",
   "mimetype": "text/x-python",
   "name": "python",
   "nbconvert_exporter": "python",
   "pygments_lexer": "ipython3",
   "version": "3.12.7"
  }
 },
 "nbformat": 4,
 "nbformat_minor": 5
}
